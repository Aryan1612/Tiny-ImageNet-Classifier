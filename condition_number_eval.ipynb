{
 "cells": [
  {
   "cell_type": "markdown",
   "metadata": {},
   "source": [
    "# model with 512 batch size"
   ]
  },
  {
   "cell_type": "code",
   "execution_count": 1,
   "metadata": {},
   "outputs": [
    {
     "name": "stdout",
     "output_type": "stream",
     "text": [
      "Layer: conv1.weight | Condition Number: 6705.6279\n",
      "Layer: layer1.0.conv1.weight | Condition Number: 134599.4219\n",
      "Layer: layer1.0.conv2.weight | Condition Number: 25517.2578\n",
      "Layer: layer1.1.conv1.weight | Condition Number: 18646.2969\n",
      "Layer: layer1.1.conv2.weight | Condition Number: 18210.4785\n",
      "Layer: layer2.0.conv1.weight | Condition Number: 86449.0547\n",
      "Layer: layer2.0.conv2.weight | Condition Number: 139480.3438\n",
      "Layer: layer2.0.downsample.0.weight | Condition Number: 152377.2812\n",
      "Layer: layer2.1.conv1.weight | Condition Number: 372094.5625\n",
      "Layer: layer2.1.conv2.weight | Condition Number: 453243.3125\n",
      "Layer: layer3.0.conv1.weight | Condition Number: 1219273.7500\n",
      "Layer: layer3.0.conv2.weight | Condition Number: 597994.5625\n",
      "Layer: layer3.0.downsample.0.weight | Condition Number: 149447.4688\n",
      "Layer: layer3.1.conv1.weight | Condition Number: 871301.0000\n",
      "Layer: layer3.1.conv2.weight | Condition Number: 562328.5000\n",
      "Layer: layer4.0.conv1.weight | Condition Number: 752918.8750\n",
      "Layer: layer4.0.conv2.weight | Condition Number: 36757024.0000\n",
      "Layer: layer4.0.downsample.0.weight | Condition Number: 6833654.5000\n",
      "Layer: layer4.1.conv1.weight | Condition Number: 25069146.0000\n",
      "Layer: layer4.1.conv2.weight | Condition Number: 2994516.5000\n",
      "Layer: fc.weight | Condition Number: 7.5560\n",
      "\n",
      "Layer with maximum condition number: layer4.0.conv2.weight | Condition Number: 36757024.0000\n"
     ]
    }
   ],
   "source": [
    "import torch\n",
    "import numpy as np\n",
    "\n",
    "model = torch.load('best_model_512.pth', map_location=torch.device('cpu'))\n",
    "\n",
    "def condition_number(weight):\n",
    "    weight_np = weight.detach().cpu().numpy()\n",
    "    singular_values = np.linalg.svd(weight_np, compute_uv=False)\n",
    "    return singular_values.max() / singular_values.min()\n",
    "\n",
    "model.eval()\n",
    "# Iterate through model layers to compute condition numbers\n",
    "max_condition_number = 0\n",
    "max_condition_layer = ''\n",
    "\n",
    "for name, param in model.named_parameters():\n",
    "    if 'weight' in name and len(param.shape) > 1:  # Check if the parameter is a weight matrix\n",
    "        cond_num = condition_number(param)\n",
    "        print(f'Layer: {name} | Condition Number: {cond_num:.4f}')\n",
    "        if cond_num > max_condition_number:\n",
    "            max_condition_number = cond_num\n",
    "            max_condition_layer = name\n",
    "\n",
    "print(f'\\nLayer with maximum condition number: {max_condition_layer} | Condition Number: {max_condition_number:.4f}')\n"
   ]
  },
  {
   "cell_type": "markdown",
   "metadata": {},
   "source": [
    "# model with 1024 batch size"
   ]
  },
  {
   "cell_type": "code",
   "execution_count": 2,
   "metadata": {},
   "outputs": [
    {
     "name": "stdout",
     "output_type": "stream",
     "text": [
      "Layer: conv1.weight | Condition Number: 13571.4365\n",
      "Layer: layer1.0.conv1.weight | Condition Number: 50654.7852\n",
      "Layer: layer1.0.conv2.weight | Condition Number: 123790.3047\n",
      "Layer: layer1.1.conv1.weight | Condition Number: 95645.7734\n",
      "Layer: layer1.1.conv2.weight | Condition Number: 609526.1875\n",
      "Layer: layer2.0.conv1.weight | Condition Number: 200672.7031\n",
      "Layer: layer2.0.conv2.weight | Condition Number: 157394.3281\n",
      "Layer: layer2.0.downsample.0.weight | Condition Number: 13030.5703\n",
      "Layer: layer2.1.conv1.weight | Condition Number: 2920705.7500\n",
      "Layer: layer2.1.conv2.weight | Condition Number: 151089.2500\n",
      "Layer: layer3.0.conv1.weight | Condition Number: 1006096.4375\n",
      "Layer: layer3.0.conv2.weight | Condition Number: 1997782.5000\n",
      "Layer: layer3.0.downsample.0.weight | Condition Number: 169745.5469\n",
      "Layer: layer3.1.conv1.weight | Condition Number: 292685.8438\n",
      "Layer: layer3.1.conv2.weight | Condition Number: 9479299.0000\n",
      "Layer: layer4.0.conv1.weight | Condition Number: 20875124.0000\n",
      "Layer: layer4.0.conv2.weight | Condition Number: 5115874.0000\n",
      "Layer: layer4.0.downsample.0.weight | Condition Number: 2085651.5000\n",
      "Layer: layer4.1.conv1.weight | Condition Number: 7206554.0000\n",
      "Layer: layer4.1.conv2.weight | Condition Number: 912501.6875\n",
      "Layer: fc.weight | Condition Number: 7.3417\n",
      "\n",
      "Layer with maximum condition number: layer4.0.conv1.weight | Condition Number: 20875124.0000\n"
     ]
    }
   ],
   "source": [
    "model = torch.load('best_model_1024.pth', map_location=torch.device('cpu'))\n",
    "model.eval()\n",
    "max_condition_number = 0\n",
    "max_condition_layer = ''\n",
    "for name, param in model.named_parameters():\n",
    "    if 'weight' in name and len(param.shape) > 1:  # Check if the parameter is a weight matrix\n",
    "        cond_num = condition_number(param)\n",
    "        print(f'Layer: {name} | Condition Number: {cond_num:.4f}')\n",
    "        if cond_num > max_condition_number:\n",
    "            max_condition_number = cond_num\n",
    "            max_condition_layer = name\n",
    "\n",
    "print(f'\\nLayer with maximum condition number: {max_condition_layer} | Condition Number: {max_condition_number:.4f}')"
   ]
  },
  {
   "cell_type": "markdown",
   "metadata": {},
   "source": [
    "# model with 4096 batch size"
   ]
  },
  {
   "cell_type": "code",
   "execution_count": 3,
   "metadata": {},
   "outputs": [
    {
     "name": "stdout",
     "output_type": "stream",
     "text": [
      "Layer: conv1.weight | Condition Number: 2452.7761\n",
      "Layer: layer1.0.conv1.weight | Condition Number: 56985.3477\n",
      "Layer: layer1.0.conv2.weight | Condition Number: 16135.2559\n",
      "Layer: layer1.1.conv1.weight | Condition Number: 49215.2422\n",
      "Layer: layer1.1.conv2.weight | Condition Number: 32237.2168\n",
      "Layer: layer2.0.conv1.weight | Condition Number: 279899.0000\n",
      "Layer: layer2.0.conv2.weight | Condition Number: 47082.9961\n",
      "Layer: layer2.0.downsample.0.weight | Condition Number: 47543.7227\n",
      "Layer: layer2.1.conv1.weight | Condition Number: 411628.6250\n",
      "Layer: layer2.1.conv2.weight | Condition Number: 136577.4062\n",
      "Layer: layer3.0.conv1.weight | Condition Number: 758019.3125\n",
      "Layer: layer3.0.conv2.weight | Condition Number: 13862746.0000\n",
      "Layer: layer3.0.downsample.0.weight | Condition Number: 165947.6719\n",
      "Layer: layer3.1.conv1.weight | Condition Number: 605434.5625\n",
      "Layer: layer3.1.conv2.weight | Condition Number: 2649178.0000\n",
      "Layer: layer4.0.conv1.weight | Condition Number: 889261.5625\n",
      "Layer: layer4.0.conv2.weight | Condition Number: 2069748.0000\n",
      "Layer: layer4.0.downsample.0.weight | Condition Number: 613478.5625\n",
      "Layer: layer4.1.conv1.weight | Condition Number: 9733217.0000\n",
      "Layer: layer4.1.conv2.weight | Condition Number: 3200986.7500\n",
      "Layer: fc.weight | Condition Number: 7.2382\n",
      "\n",
      "Layer with maximum condition number: layer3.0.conv2.weight | Condition Number: 13862746.0000\n"
     ]
    }
   ],
   "source": [
    "model = torch.load('best_model_4096.pth', map_location=torch.device('cpu'))\n",
    "model.eval()\n",
    "max_condition_number = 0\n",
    "max_condition_layer = ''\n",
    "for name, param in model.named_parameters():\n",
    "    if 'weight' in name and len(param.shape) > 1:  # Check if the parameter is a weight matrix\n",
    "        cond_num = condition_number(param)\n",
    "        print(f'Layer: {name} | Condition Number: {cond_num:.4f}')\n",
    "        if cond_num > max_condition_number:\n",
    "            max_condition_number = cond_num\n",
    "            max_condition_layer = name\n",
    "\n",
    "print(f'\\nLayer with maximum condition number: {max_condition_layer} | Condition Number: {max_condition_number:.4f}')"
   ]
  }
 ],
 "metadata": {
  "kernelspec": {
   "display_name": "Python 3",
   "language": "python",
   "name": "python3"
  },
  "language_info": {
   "codemirror_mode": {
    "name": "ipython",
    "version": 3
   },
   "file_extension": ".py",
   "mimetype": "text/x-python",
   "name": "python",
   "nbconvert_exporter": "python",
   "pygments_lexer": "ipython3",
   "version": "3.12.0"
  }
 },
 "nbformat": 4,
 "nbformat_minor": 2
}
